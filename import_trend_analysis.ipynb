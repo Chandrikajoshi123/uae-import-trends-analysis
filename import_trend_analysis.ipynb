{
 "cells": [
  {
   "cell_type": "markdown",
   "metadata": {},
   "source": [
    "# **Import Trends Analysis**"
   ]
  },
  {
   "cell_type": "code",
   "execution_count": 1,
   "metadata": {},
   "outputs": [],
   "source": [
    "import pandas as pd\n",
    "import numpy as np \n",
    "import matplotlib.pyplot as plt \n",
    "import seaborn as sns"
   ]
  },
  {
   "cell_type": "code",
   "execution_count": 2,
   "metadata": {},
   "outputs": [
    {
     "name": "stdout",
     "output_type": "stream",
     "text": [
      "/Users/chandrikajoshi/Downloads/ImportsbyChapter(HS)2008-2016.xlsx\n",
      "['Imports']\n"
     ]
    }
   ],
   "source": [
    "file_path='/Users/chandrikajoshi/Downloads/ImportsbyChapter(HS)2008-2016.xlsx'\n",
    "print(file_path)\n",
    "xls = pd.ExcelFile(file_path)\n",
    "print(xls.sheet_names)"
   ]
  },
  {
   "cell_type": "code",
   "execution_count": 3,
   "metadata": {},
   "outputs": [],
   "source": [
    "df = pd.read_excel(file_path)\n"
   ]
  },
  {
   "cell_type": "code",
   "execution_count": 37,
   "metadata": {},
   "outputs": [
    {
     "data": {
      "text/html": [
       "<div>\n",
       "<style scoped>\n",
       "    .dataframe tbody tr th:only-of-type {\n",
       "        vertical-align: middle;\n",
       "    }\n",
       "\n",
       "    .dataframe tbody tr th {\n",
       "        vertical-align: top;\n",
       "    }\n",
       "\n",
       "    .dataframe thead th {\n",
       "        text-align: right;\n",
       "    }\n",
       "</style>\n",
       "<table border=\"1\" class=\"dataframe\">\n",
       "  <thead>\n",
       "    <tr style=\"text-align: right;\">\n",
       "      <th></th>\n",
       "      <th>HS code</th>\n",
       "      <th>description_EN</th>\n",
       "      <th>description_AR</th>\n",
       "      <th>unit_EN</th>\n",
       "      <th>unit_AR</th>\n",
       "      <th>year</th>\n",
       "      <th>number</th>\n",
       "    </tr>\n",
       "  </thead>\n",
       "  <tbody>\n",
       "    <tr>\n",
       "      <th>0</th>\n",
       "      <td>1</td>\n",
       "      <td>live animals</td>\n",
       "      <td>حيوانات حية</td>\n",
       "      <td>weight in kg</td>\n",
       "      <td>الوزن (كغ)\\n</td>\n",
       "      <td>2008</td>\n",
       "      <td>7.249599e+07</td>\n",
       "    </tr>\n",
       "    <tr>\n",
       "      <th>1</th>\n",
       "      <td>1</td>\n",
       "      <td>live animals</td>\n",
       "      <td>حيوانات حية</td>\n",
       "      <td>value in aed</td>\n",
       "      <td>القيمة (بالدرهم)\\n</td>\n",
       "      <td>2008</td>\n",
       "      <td>5.910401e+08</td>\n",
       "    </tr>\n",
       "    <tr>\n",
       "      <th>2</th>\n",
       "      <td>1</td>\n",
       "      <td>live animals</td>\n",
       "      <td>حيوانات حية</td>\n",
       "      <td>weight in kg</td>\n",
       "      <td>الوزن (كغ)\\n</td>\n",
       "      <td>2009</td>\n",
       "      <td>5.948809e+07</td>\n",
       "    </tr>\n",
       "    <tr>\n",
       "      <th>3</th>\n",
       "      <td>1</td>\n",
       "      <td>live animals</td>\n",
       "      <td>حيوانات حية</td>\n",
       "      <td>value in aed</td>\n",
       "      <td>القيمة (بالدرهم)\\n</td>\n",
       "      <td>2009</td>\n",
       "      <td>5.275536e+08</td>\n",
       "    </tr>\n",
       "    <tr>\n",
       "      <th>4</th>\n",
       "      <td>1</td>\n",
       "      <td>live animals</td>\n",
       "      <td>حيوانات حية</td>\n",
       "      <td>weight in kg</td>\n",
       "      <td>الوزن (كغ)\\n</td>\n",
       "      <td>2010</td>\n",
       "      <td>5.231638e+07</td>\n",
       "    </tr>\n",
       "  </tbody>\n",
       "</table>\n",
       "</div>"
      ],
      "text/plain": [
       "   HS code description_EN description_AR       unit_EN             unit_AR  \\\n",
       "0        1   live animals   حيوانات حية   weight in kg        الوزن (كغ)\\n   \n",
       "1        1   live animals   حيوانات حية   value in aed  القيمة (بالدرهم)\\n   \n",
       "2        1   live animals   حيوانات حية   weight in kg        الوزن (كغ)\\n   \n",
       "3        1   live animals   حيوانات حية   value in aed  القيمة (بالدرهم)\\n   \n",
       "4        1   live animals   حيوانات حية   weight in kg        الوزن (كغ)\\n   \n",
       "\n",
       "   year        number  \n",
       "0  2008  7.249599e+07  \n",
       "1  2008  5.910401e+08  \n",
       "2  2009  5.948809e+07  \n",
       "3  2009  5.275536e+08  \n",
       "4  2010  5.231638e+07  "
      ]
     },
     "execution_count": 37,
     "metadata": {},
     "output_type": "execute_result"
    }
   ],
   "source": [
    "df.head()"
   ]
  },
  {
   "cell_type": "code",
   "execution_count": null,
   "metadata": {},
   "outputs": [
    {
     "data": {
      "text/html": [
       "<div>\n",
       "<style scoped>\n",
       "    .dataframe tbody tr th:only-of-type {\n",
       "        vertical-align: middle;\n",
       "    }\n",
       "\n",
       "    .dataframe tbody tr th {\n",
       "        vertical-align: top;\n",
       "    }\n",
       "\n",
       "    .dataframe thead th {\n",
       "        text-align: right;\n",
       "    }\n",
       "</style>\n",
       "<table border=\"1\" class=\"dataframe\">\n",
       "  <thead>\n",
       "    <tr style=\"text-align: right;\">\n",
       "      <th></th>\n",
       "      <th>HS code</th>\n",
       "      <th>description_EN</th>\n",
       "      <th>description_AR</th>\n",
       "      <th>unit_EN</th>\n",
       "      <th>unit_AR</th>\n",
       "      <th>year</th>\n",
       "      <th>number</th>\n",
       "    </tr>\n",
       "  </thead>\n",
       "  <tbody>\n",
       "    <tr>\n",
       "      <th>1753</th>\n",
       "      <td>98</td>\n",
       "      <td>reserved for special cases by contracting parties</td>\n",
       "      <td>فصل احتياطي لاستعمالات خاصة من قبل الأطراف الم...</td>\n",
       "      <td>value in aed</td>\n",
       "      <td>القيمة (بالدرهم)\\n</td>\n",
       "      <td>2014</td>\n",
       "      <td>62136885.48</td>\n",
       "    </tr>\n",
       "    <tr>\n",
       "      <th>1754</th>\n",
       "      <td>98</td>\n",
       "      <td>reserved for special cases by contracting parties</td>\n",
       "      <td>فصل احتياطي لاستعمالات خاصة من قبل الأطراف الم...</td>\n",
       "      <td>weight in kg</td>\n",
       "      <td>الوزن (كغ)\\n</td>\n",
       "      <td>2015</td>\n",
       "      <td>3945519.10</td>\n",
       "    </tr>\n",
       "    <tr>\n",
       "      <th>1755</th>\n",
       "      <td>98</td>\n",
       "      <td>reserved for special cases by contracting parties</td>\n",
       "      <td>فصل احتياطي لاستعمالات خاصة من قبل الأطراف الم...</td>\n",
       "      <td>value in aed</td>\n",
       "      <td>القيمة (بالدرهم)\\n</td>\n",
       "      <td>2015</td>\n",
       "      <td>84520510.84</td>\n",
       "    </tr>\n",
       "    <tr>\n",
       "      <th>1756</th>\n",
       "      <td>98</td>\n",
       "      <td>reserved for special cases by contracting parties</td>\n",
       "      <td>فصل احتياطي لاستعمالات خاصة من قبل الأطراف الم...</td>\n",
       "      <td>weight in kg</td>\n",
       "      <td>الوزن (كغ)\\n</td>\n",
       "      <td>2016</td>\n",
       "      <td>3484775.00</td>\n",
       "    </tr>\n",
       "    <tr>\n",
       "      <th>1757</th>\n",
       "      <td>98</td>\n",
       "      <td>reserved for special cases by contracting parties</td>\n",
       "      <td>فصل احتياطي لاستعمالات خاصة من قبل الأطراف الم...</td>\n",
       "      <td>value in aed</td>\n",
       "      <td>القيمة (بالدرهم)\\n</td>\n",
       "      <td>2016</td>\n",
       "      <td>68999558.00</td>\n",
       "    </tr>\n",
       "  </tbody>\n",
       "</table>\n",
       "</div>"
      ],
      "text/plain": [
       "      HS code                                     description_EN  \\\n",
       "1753       98  reserved for special cases by contracting parties   \n",
       "1754       98  reserved for special cases by contracting parties   \n",
       "1755       98  reserved for special cases by contracting parties   \n",
       "1756       98  reserved for special cases by contracting parties   \n",
       "1757       98  reserved for special cases by contracting parties   \n",
       "\n",
       "                                         description_AR       unit_EN  \\\n",
       "1753  فصل احتياطي لاستعمالات خاصة من قبل الأطراف الم...  value in aed   \n",
       "1754  فصل احتياطي لاستعمالات خاصة من قبل الأطراف الم...  weight in kg   \n",
       "1755  فصل احتياطي لاستعمالات خاصة من قبل الأطراف الم...  value in aed   \n",
       "1756  فصل احتياطي لاستعمالات خاصة من قبل الأطراف الم...  weight in kg   \n",
       "1757  فصل احتياطي لاستعمالات خاصة من قبل الأطراف الم...  value in aed   \n",
       "\n",
       "                 unit_AR  year       number  \n",
       "1753  القيمة (بالدرهم)\\n  2014  62136885.48  \n",
       "1754        الوزن (كغ)\\n  2015   3945519.10  \n",
       "1755  القيمة (بالدرهم)\\n  2015  84520510.84  \n",
       "1756        الوزن (كغ)\\n  2016   3484775.00  \n",
       "1757  القيمة (بالدرهم)\\n  2016  68999558.00  "
      ]
     },
     "execution_count": 38,
     "metadata": {},
     "output_type": "execute_result"
    }
   ],
   "source": [
    "df.tail()"
   ]
  },
  {
   "cell_type": "code",
   "execution_count": 39,
   "metadata": {},
   "outputs": [
    {
     "data": {
      "text/html": [
       "<div>\n",
       "<style scoped>\n",
       "    .dataframe tbody tr th:only-of-type {\n",
       "        vertical-align: middle;\n",
       "    }\n",
       "\n",
       "    .dataframe tbody tr th {\n",
       "        vertical-align: top;\n",
       "    }\n",
       "\n",
       "    .dataframe thead th {\n",
       "        text-align: right;\n",
       "    }\n",
       "</style>\n",
       "<table border=\"1\" class=\"dataframe\">\n",
       "  <thead>\n",
       "    <tr style=\"text-align: right;\">\n",
       "      <th></th>\n",
       "      <th>HS code</th>\n",
       "      <th>year</th>\n",
       "      <th>number</th>\n",
       "    </tr>\n",
       "  </thead>\n",
       "  <tbody>\n",
       "    <tr>\n",
       "      <th>count</th>\n",
       "      <td>1758.000000</td>\n",
       "      <td>1758.000000</td>\n",
       "      <td>1.758000e+03</td>\n",
       "    </tr>\n",
       "    <tr>\n",
       "      <th>mean</th>\n",
       "      <td>49.481229</td>\n",
       "      <td>2011.979522</td>\n",
       "      <td>3.455738e+09</td>\n",
       "    </tr>\n",
       "    <tr>\n",
       "      <th>std</th>\n",
       "      <td>28.401412</td>\n",
       "      <td>2.586606</td>\n",
       "      <td>1.464713e+10</td>\n",
       "    </tr>\n",
       "    <tr>\n",
       "      <th>min</th>\n",
       "      <td>1.000000</td>\n",
       "      <td>2008.000000</td>\n",
       "      <td>0.000000e+00</td>\n",
       "    </tr>\n",
       "    <tr>\n",
       "      <th>25%</th>\n",
       "      <td>25.000000</td>\n",
       "      <td>2010.000000</td>\n",
       "      <td>5.959514e+07</td>\n",
       "    </tr>\n",
       "    <tr>\n",
       "      <th>50%</th>\n",
       "      <td>49.000000</td>\n",
       "      <td>2012.000000</td>\n",
       "      <td>3.878785e+08</td>\n",
       "    </tr>\n",
       "    <tr>\n",
       "      <th>75%</th>\n",
       "      <td>74.000000</td>\n",
       "      <td>2014.000000</td>\n",
       "      <td>2.160959e+09</td>\n",
       "    </tr>\n",
       "    <tr>\n",
       "      <th>max</th>\n",
       "      <td>99.000000</td>\n",
       "      <td>2016.000000</td>\n",
       "      <td>2.238087e+11</td>\n",
       "    </tr>\n",
       "  </tbody>\n",
       "</table>\n",
       "</div>"
      ],
      "text/plain": [
       "           HS code         year        number\n",
       "count  1758.000000  1758.000000  1.758000e+03\n",
       "mean     49.481229  2011.979522  3.455738e+09\n",
       "std      28.401412     2.586606  1.464713e+10\n",
       "min       1.000000  2008.000000  0.000000e+00\n",
       "25%      25.000000  2010.000000  5.959514e+07\n",
       "50%      49.000000  2012.000000  3.878785e+08\n",
       "75%      74.000000  2014.000000  2.160959e+09\n",
       "max      99.000000  2016.000000  2.238087e+11"
      ]
     },
     "execution_count": 39,
     "metadata": {},
     "output_type": "execute_result"
    }
   ],
   "source": [
    "df.describe()"
   ]
  },
  {
   "cell_type": "code",
   "execution_count": 40,
   "metadata": {},
   "outputs": [
    {
     "data": {
      "text/plain": [
       "(1758, 7)"
      ]
     },
     "execution_count": 40,
     "metadata": {},
     "output_type": "execute_result"
    }
   ],
   "source": [
    "df.shape"
   ]
  },
  {
   "cell_type": "code",
   "execution_count": 41,
   "metadata": {},
   "outputs": [
    {
     "data": {
      "text/plain": [
       "HS code           0\n",
       "description_EN    0\n",
       "description_AR    0\n",
       "unit_EN           0\n",
       "unit_AR           0\n",
       "year              0\n",
       "number            0\n",
       "dtype: int64"
      ]
     },
     "execution_count": 41,
     "metadata": {},
     "output_type": "execute_result"
    }
   ],
   "source": [
    "df.isnull().sum()"
   ]
  },
  {
   "cell_type": "code",
   "execution_count": 42,
   "metadata": {},
   "outputs": [],
   "source": [
    "value_data = df[df['unit_EN'] == 'value in aed']\n"
   ]
  },
  {
   "cell_type": "code",
   "execution_count": 43,
   "metadata": {},
   "outputs": [
    {
     "data": {
      "text/html": [
       "<div>\n",
       "<style scoped>\n",
       "    .dataframe tbody tr th:only-of-type {\n",
       "        vertical-align: middle;\n",
       "    }\n",
       "\n",
       "    .dataframe tbody tr th {\n",
       "        vertical-align: top;\n",
       "    }\n",
       "\n",
       "    .dataframe thead th {\n",
       "        text-align: right;\n",
       "    }\n",
       "</style>\n",
       "<table border=\"1\" class=\"dataframe\">\n",
       "  <thead>\n",
       "    <tr style=\"text-align: right;\">\n",
       "      <th></th>\n",
       "      <th>HS code</th>\n",
       "      <th>description_EN</th>\n",
       "      <th>description_AR</th>\n",
       "      <th>unit_EN</th>\n",
       "      <th>unit_AR</th>\n",
       "      <th>year</th>\n",
       "      <th>number</th>\n",
       "    </tr>\n",
       "  </thead>\n",
       "  <tbody>\n",
       "    <tr>\n",
       "      <th>1</th>\n",
       "      <td>1</td>\n",
       "      <td>live animals</td>\n",
       "      <td>حيوانات حية</td>\n",
       "      <td>value in aed</td>\n",
       "      <td>القيمة (بالدرهم)\\n</td>\n",
       "      <td>2008</td>\n",
       "      <td>5.910401e+08</td>\n",
       "    </tr>\n",
       "    <tr>\n",
       "      <th>3</th>\n",
       "      <td>1</td>\n",
       "      <td>live animals</td>\n",
       "      <td>حيوانات حية</td>\n",
       "      <td>value in aed</td>\n",
       "      <td>القيمة (بالدرهم)\\n</td>\n",
       "      <td>2009</td>\n",
       "      <td>5.275536e+08</td>\n",
       "    </tr>\n",
       "    <tr>\n",
       "      <th>5</th>\n",
       "      <td>1</td>\n",
       "      <td>live animals</td>\n",
       "      <td>حيوانات حية</td>\n",
       "      <td>value in aed</td>\n",
       "      <td>القيمة (بالدرهم)\\n</td>\n",
       "      <td>2010</td>\n",
       "      <td>5.833422e+08</td>\n",
       "    </tr>\n",
       "    <tr>\n",
       "      <th>7</th>\n",
       "      <td>2</td>\n",
       "      <td>meat and edible meat offal</td>\n",
       "      <td>لحوم وأحشاء وأطراف صالحة للأكل</td>\n",
       "      <td>value in aed</td>\n",
       "      <td>القيمة (بالدرهم)\\n</td>\n",
       "      <td>2008</td>\n",
       "      <td>3.981771e+09</td>\n",
       "    </tr>\n",
       "    <tr>\n",
       "      <th>9</th>\n",
       "      <td>2</td>\n",
       "      <td>meat and edible meat offal</td>\n",
       "      <td>لحوم وأحشاء وأطراف صالحة للأكل</td>\n",
       "      <td>value in aed</td>\n",
       "      <td>القيمة (بالدرهم)\\n</td>\n",
       "      <td>2009</td>\n",
       "      <td>3.570811e+09</td>\n",
       "    </tr>\n",
       "    <tr>\n",
       "      <th>...</th>\n",
       "      <td>...</td>\n",
       "      <td>...</td>\n",
       "      <td>...</td>\n",
       "      <td>...</td>\n",
       "      <td>...</td>\n",
       "      <td>...</td>\n",
       "      <td>...</td>\n",
       "    </tr>\n",
       "    <tr>\n",
       "      <th>1749</th>\n",
       "      <td>97</td>\n",
       "      <td>pieces and antiques 'works of art, collectors</td>\n",
       "      <td>تحف فنية ، قطع للمجموعات وقطع أثرية</td>\n",
       "      <td>value in aed</td>\n",
       "      <td>القيمة (بالدرهم)\\n</td>\n",
       "      <td>2015</td>\n",
       "      <td>2.529732e+08</td>\n",
       "    </tr>\n",
       "    <tr>\n",
       "      <th>1751</th>\n",
       "      <td>97</td>\n",
       "      <td>pieces and antiques 'works of art, collectors</td>\n",
       "      <td>تحف فنية ، قطع للمجموعات وقطع أثرية</td>\n",
       "      <td>value in aed</td>\n",
       "      <td>القيمة (بالدرهم)\\n</td>\n",
       "      <td>2016</td>\n",
       "      <td>4.269420e+08</td>\n",
       "    </tr>\n",
       "    <tr>\n",
       "      <th>1753</th>\n",
       "      <td>98</td>\n",
       "      <td>reserved for special cases by contracting parties</td>\n",
       "      <td>فصل احتياطي لاستعمالات خاصة من قبل الأطراف الم...</td>\n",
       "      <td>value in aed</td>\n",
       "      <td>القيمة (بالدرهم)\\n</td>\n",
       "      <td>2014</td>\n",
       "      <td>6.213689e+07</td>\n",
       "    </tr>\n",
       "    <tr>\n",
       "      <th>1755</th>\n",
       "      <td>98</td>\n",
       "      <td>reserved for special cases by contracting parties</td>\n",
       "      <td>فصل احتياطي لاستعمالات خاصة من قبل الأطراف الم...</td>\n",
       "      <td>value in aed</td>\n",
       "      <td>القيمة (بالدرهم)\\n</td>\n",
       "      <td>2015</td>\n",
       "      <td>8.452051e+07</td>\n",
       "    </tr>\n",
       "    <tr>\n",
       "      <th>1757</th>\n",
       "      <td>98</td>\n",
       "      <td>reserved for special cases by contracting parties</td>\n",
       "      <td>فصل احتياطي لاستعمالات خاصة من قبل الأطراف الم...</td>\n",
       "      <td>value in aed</td>\n",
       "      <td>القيمة (بالدرهم)\\n</td>\n",
       "      <td>2016</td>\n",
       "      <td>6.899956e+07</td>\n",
       "    </tr>\n",
       "  </tbody>\n",
       "</table>\n",
       "<p>879 rows × 7 columns</p>\n",
       "</div>"
      ],
      "text/plain": [
       "      HS code                                     description_EN  \\\n",
       "1           1                                       live animals   \n",
       "3           1                                       live animals   \n",
       "5           1                                       live animals   \n",
       "7           2                         meat and edible meat offal   \n",
       "9           2                         meat and edible meat offal   \n",
       "...       ...                                                ...   \n",
       "1749       97      pieces and antiques 'works of art, collectors   \n",
       "1751       97      pieces and antiques 'works of art, collectors   \n",
       "1753       98  reserved for special cases by contracting parties   \n",
       "1755       98  reserved for special cases by contracting parties   \n",
       "1757       98  reserved for special cases by contracting parties   \n",
       "\n",
       "                                         description_AR       unit_EN  \\\n",
       "1                                          حيوانات حية   value in aed   \n",
       "3                                          حيوانات حية   value in aed   \n",
       "5                                          حيوانات حية   value in aed   \n",
       "7                        لحوم وأحشاء وأطراف صالحة للأكل  value in aed   \n",
       "9                        لحوم وأحشاء وأطراف صالحة للأكل  value in aed   \n",
       "...                                                 ...           ...   \n",
       "1749               تحف فنية ، قطع للمجموعات وقطع أثرية   value in aed   \n",
       "1751               تحف فنية ، قطع للمجموعات وقطع أثرية   value in aed   \n",
       "1753  فصل احتياطي لاستعمالات خاصة من قبل الأطراف الم...  value in aed   \n",
       "1755  فصل احتياطي لاستعمالات خاصة من قبل الأطراف الم...  value in aed   \n",
       "1757  فصل احتياطي لاستعمالات خاصة من قبل الأطراف الم...  value in aed   \n",
       "\n",
       "                 unit_AR  year        number  \n",
       "1     القيمة (بالدرهم)\\n  2008  5.910401e+08  \n",
       "3     القيمة (بالدرهم)\\n  2009  5.275536e+08  \n",
       "5     القيمة (بالدرهم)\\n  2010  5.833422e+08  \n",
       "7     القيمة (بالدرهم)\\n  2008  3.981771e+09  \n",
       "9     القيمة (بالدرهم)\\n  2009  3.570811e+09  \n",
       "...                  ...   ...           ...  \n",
       "1749  القيمة (بالدرهم)\\n  2015  2.529732e+08  \n",
       "1751  القيمة (بالدرهم)\\n  2016  4.269420e+08  \n",
       "1753  القيمة (بالدرهم)\\n  2014  6.213689e+07  \n",
       "1755  القيمة (بالدرهم)\\n  2015  8.452051e+07  \n",
       "1757  القيمة (بالدرهم)\\n  2016  6.899956e+07  \n",
       "\n",
       "[879 rows x 7 columns]"
      ]
     },
     "execution_count": 43,
     "metadata": {},
     "output_type": "execute_result"
    }
   ],
   "source": [
    "value_data"
   ]
  },
  {
   "cell_type": "code",
   "execution_count": 44,
   "metadata": {},
   "outputs": [
    {
     "data": {
      "text/plain": [
       "(879, 7)"
      ]
     },
     "execution_count": 44,
     "metadata": {},
     "output_type": "execute_result"
    }
   ],
   "source": [
    "value_data.shape"
   ]
  },
  {
   "cell_type": "code",
   "execution_count": 45,
   "metadata": {},
   "outputs": [],
   "source": [
    "top_imports = value_data.groupby('description_EN')['number'].sum().sort_values(ascending=False).head(10)\n"
   ]
  },
  {
   "cell_type": "code",
   "execution_count": 46,
   "metadata": {},
   "outputs": [
    {
     "data": {
      "text/plain": [
       "description_EN\n",
       "pearls, precious metals,stones & articles thereof     1.529224e+12\n",
       "nuclear reactors,boilers,machinery & parts thereof    6.208611e+11\n",
       "vehicles other than railway or tramway; parts         5.037178e+11\n",
       "electrical machinery,sound recorders and parts        4.683192e+11\n",
       "aircraft, spacecraft, and parts thereof               2.536538e+11\n",
       "Name: number, dtype: float64"
      ]
     },
     "execution_count": 46,
     "metadata": {},
     "output_type": "execute_result"
    }
   ],
   "source": [
    "top_imports.head()"
   ]
  },
  {
   "cell_type": "code",
   "execution_count": 47,
   "metadata": {},
   "outputs": [
    {
     "name": "stderr",
     "output_type": "stream",
     "text": [
      "/var/folders/cg/fvq9x_3570g1bkbmg013q1kc0000gn/T/ipykernel_1721/215866505.py:2: FutureWarning: \n",
      "\n",
      "Passing `palette` without assigning `hue` is deprecated and will be removed in v0.14.0. Assign the `y` variable to `hue` and set `legend=False` for the same effect.\n",
      "\n",
      "  sns.barplot(x=top_imports.values, y=top_imports.index, palette=\"viridis\")\n"
     ]
    },
    {
     "data": {
      "image/png": "[encoded data removed]",
      "text/plain": [
       "<Figure size 1200x600 with 1 Axes>"
      ]
     },
     "metadata": {},
     "output_type": "display_data"
    }
   ],
   "source": [
    "plt.figure(figsize=(12,6))\n",
    "sns.barplot(x=top_imports.values, y=top_imports.index, palette=\"viridis\")\n",
    "plt.title('Top 10 Imported Categories (2008–2016)', fontsize=16)\n",
    "plt.xlabel('Total Import Value (AED)')\n",
    "plt.ylabel('Product Category')\n",
    "plt.grid(axis='x')\n",
    "plt.tight_layout()"
   ]
  },
  {
   "cell_type": "code",
   "execution_count": null,
   "metadata": {},
   "outputs": [],
   "source": []
  }
 ],
 "metadata": {
  "kernelspec": {
   "display_name": "UAE",
   "language": "python",
   "name": "python3"
  },
  "language_info": {
   "codemirror_mode": {
    "name": "ipython",
    "version": 3
   },
   "file_extension": ".py",
   "mimetype": "text/x-python",
   "name": "python",
   "nbconvert_exporter": "python",
   "pygments_lexer": "ipython3",
   "version": "3.12.4"
  }
 },
 "nbformat": 4,
 "nbformat_minor": 2
}
